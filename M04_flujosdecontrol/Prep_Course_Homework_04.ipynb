{
 "cells": [
  {
   "attachments": {},
   "cell_type": "markdown",
   "metadata": {},
   "source": [
    "## Flujos de Control"
   ]
  },
  {
   "attachments": {},
   "cell_type": "markdown",
   "metadata": {},
   "source": [
    "1) Crear una variable que contenga un elemento del conjunto de números enteros y luego imprimir por pantalla si es mayor o menor a cero"
   ]
  },
  {
   "cell_type": "code",
   "execution_count": 61,
   "metadata": {},
   "outputs": [
    {
     "name": "stdout",
     "output_type": "stream",
     "text": [
      "mayor a cero\n"
     ]
    }
   ],
   "source": [
    "X=10\n",
    "if X > 0:\n",
    "    print('mayor a cero')\n",
    "else:\n",
    "    print('menor igual a cero')"
   ]
  },
  {
   "attachments": {},
   "cell_type": "markdown",
   "metadata": {},
   "source": [
    "2) Crear dos variables y un condicional que informe si son del mismo tipo de dato"
   ]
  },
  {
   "cell_type": "code",
   "execution_count": 62,
   "metadata": {},
   "outputs": [
    {
     "name": "stdout",
     "output_type": "stream",
     "text": [
      "de distinto type\n"
     ]
    }
   ],
   "source": [
    "Y=5\n",
    "Z= 'HOLA'\n",
    "if type(Y) == type(Z):\n",
    "    print('mismo type')\n",
    "else:\n",
    "    print('de distinto type')"
   ]
  },
  {
   "attachments": {},
   "cell_type": "markdown",
   "metadata": {},
   "source": [
    "3) Para los valores enteros del 1 al 20, imprimir por pantalla si es par o impar"
   ]
  },
  {
   "cell_type": "code",
   "execution_count": 63,
   "metadata": {},
   "outputs": [
    {
     "name": "stdout",
     "output_type": "stream",
     "text": [
      "1 IMPAR\n",
      "2 PAR\n",
      "3 IMPAR\n",
      "4 PAR\n",
      "5 IMPAR\n",
      "6 PAR\n",
      "7 IMPAR\n",
      "8 PAR\n",
      "9 IMPAR\n",
      "10 PAR\n",
      "11 IMPAR\n",
      "12 PAR\n",
      "13 IMPAR\n",
      "14 PAR\n",
      "15 IMPAR\n",
      "16 PAR\n",
      "17 IMPAR\n",
      "18 PAR\n",
      "19 IMPAR\n",
      "20 PAR\n"
     ]
    }
   ],
   "source": [
    "numeros = [1,2,3,4,5,6,7,8,9,10,11,12,13,14,15,16,17,18,19,20]\n",
    "for n in numeros:\n",
    "    if n%2==0:\n",
    "        print(n,'PAR')\n",
    "    else:\n",
    "        print(n,'IMPAR')\n"
   ]
  },
  {
   "cell_type": "code",
   "execution_count": 1,
   "metadata": {},
   "outputs": [],
   "source": [
    "n=1\n",
    "while n >= 20:\n",
    "    if n%2==0:\n",
    "        print(n,'PAR')\n",
    "    else:\n",
    "        print(n,'IMPAR')\n",
    "    K = K+1"
   ]
  },
  {
   "attachments": {},
   "cell_type": "markdown",
   "metadata": {},
   "source": [
    "4) En un ciclo for mostrar para los valores entre 0 y 5 el resultado de elevarlo a la potencia igual a 3"
   ]
  },
  {
   "cell_type": "code",
   "execution_count": 65,
   "metadata": {},
   "outputs": [
    {
     "name": "stdout",
     "output_type": "stream",
     "text": [
      "1\n",
      "8\n",
      "27\n",
      "64\n",
      "125\n"
     ]
    }
   ],
   "source": [
    "ciclo = [1,2,3,4,5]\n",
    "for n in ciclo:\n",
    "    print(n**3)"
   ]
  },
  {
   "cell_type": "code",
   "execution_count": 66,
   "metadata": {},
   "outputs": [
    {
     "name": "stdout",
     "output_type": "stream",
     "text": [
      "numero:  0 elevado a la 3era potencia:  0\n",
      "numero:  1 elevado a la 3era potencia:  1\n",
      "numero:  2 elevado a la 3era potencia:  8\n",
      "numero:  3 elevado a la 3era potencia:  27\n",
      "numero:  4 elevado a la 3era potencia:  64\n",
      "numero:  5 elevado a la 3era potencia:  125\n"
     ]
    }
   ],
   "source": [
    "for n in range(0,6):\n",
    "    print('numero: ',str(n),'elevado a la 3era potencia: ', str(n**3))\n"
   ]
  },
  {
   "attachments": {},
   "cell_type": "markdown",
   "metadata": {},
   "source": [
    "5) Crear una variable que contenga un número entero y realizar un ciclo for la misma cantidad de ciclos"
   ]
  },
  {
   "cell_type": "code",
   "execution_count": 67,
   "metadata": {},
   "outputs": [
    {
     "name": "stdout",
     "output_type": "stream",
     "text": [
      "14\n"
     ]
    }
   ],
   "source": [
    "n = 15\n",
    "for i in range (0,n):\n",
    "    pass\n",
    "print(i)\n",
    "\n"
   ]
  },
  {
   "attachments": {},
   "cell_type": "markdown",
   "metadata": {},
   "source": [
    "6) Utilizar un ciclo while para realizar el factorial de un número guardado en una variable, sólo si la variable contiene un número entero mayor a 0"
   ]
  },
  {
   "cell_type": "code",
   "execution_count": 68,
   "metadata": {},
   "outputs": [
    {
     "name": "stdout",
     "output_type": "stream",
     "text": [
      "El factorial es 24\n"
     ]
    }
   ],
   "source": [
    "n = 4 \n",
    "if (type(n) == int):\n",
    "    if (n > 0):\n",
    "        factorial = n\n",
    "        while n > 2:\n",
    "            n = n - 1\n",
    "            factorial = factorial * n\n",
    "        print('El factorial es', factorial)\n",
    "    else:\n",
    "        print('La variable no es mayor a cero')\n",
    "else:\n",
    "    print('La variable no es un entero')\n",
    "    "
   ]
  },
  {
   "attachments": {},
   "cell_type": "markdown",
   "metadata": {},
   "source": [
    "7) Crear un ciclo for dentro de un ciclo while"
   ]
  },
  {
   "cell_type": "code",
   "execution_count": 69,
   "metadata": {},
   "outputs": [
    {
     "name": "stdout",
     "output_type": "stream",
     "text": [
      "ciclo while #: 1\n",
      "ciclo for #1\n",
      "ciclo while #: 2\n",
      "ciclo for #1\n",
      "ciclo for #2\n",
      "ciclo while #: 3\n",
      "ciclo for #1\n",
      "ciclo for #2\n",
      "ciclo for #3\n",
      "ciclo while #: 4\n",
      "ciclo for #1\n",
      "ciclo for #2\n",
      "ciclo for #3\n",
      "ciclo for #4\n"
     ]
    }
   ],
   "source": [
    "n = 1\n",
    "while n<5:\n",
    "        print(f'ciclo while #: {n}')\n",
    "        for i in range (1,n+1):\n",
    "            print ('ciclo for #' + str(i))\n",
    "        n += 1"
   ]
  },
  {
   "attachments": {},
   "cell_type": "markdown",
   "metadata": {},
   "source": [
    "8) Crear un ciclo while dentro de un ciclo for"
   ]
  },
  {
   "cell_type": "code",
   "execution_count": 75,
   "metadata": {},
   "outputs": [
    {
     "name": "stdout",
     "output_type": "stream",
     "text": [
      "ciclo for: 0\n",
      "ciclo while: 0\n",
      "ciclo while: 1\n",
      "ciclo while: 2\n",
      "ciclo for: 1\n",
      "ciclo while: 0\n",
      "ciclo while: 1\n",
      "ciclo while: 2\n"
     ]
    }
   ],
   "source": [
    "n=2\n",
    "for i in range(n):\n",
    "    contador = 0\n",
    "    limite = 3\n",
    "    print(f'ciclo for: {i}')\n",
    "    while contador < limite:\n",
    "        print(f'ciclo while: {contador}')\n",
    "        contador += 1\n",
    "\n"
   ]
  },
  {
   "cell_type": "code",
   "execution_count": null,
   "metadata": {},
   "outputs": [],
   "source": [
    "n = 5\n",
    "for i in range(1,n):\n",
    "    while n < 5:\n",
    "        n -=1\n",
    "        print('ciclo while #' + str(n))\n",
    "        print('ciclo for #' + str(i))\n",
    "        "
   ]
  },
  {
   "attachments": {},
   "cell_type": "markdown",
   "metadata": {},
   "source": [
    "9) Imprimir los números primos existentes entre 0 y 30"
   ]
  },
  {
   "cell_type": "code",
   "execution_count": 81,
   "metadata": {},
   "outputs": [
    {
     "name": "stdout",
     "output_type": "stream",
     "text": [
      "2\n",
      "3\n",
      "5\n",
      "7\n",
      "11\n",
      "13\n",
      "17\n",
      "19\n",
      "23\n",
      "29\n"
     ]
    }
   ],
   "source": [
    "tope = 30\n",
    "n = 2 #el 0 y el 1 no son primos\n",
    "primo = True\n",
    "\n",
    "while n <= tope:\n",
    "    for div in range(2,n):\n",
    "        resto = n % div\n",
    "        if resto == 0:\n",
    "            primo = False\n",
    "    if primo:\n",
    "        print(n)\n",
    "    else:    \n",
    "        primo = True #necesita el true porque quedo false de arriba\n",
    "    n +=1"
   ]
  },
  {
   "attachments": {},
   "cell_type": "markdown",
   "metadata": {},
   "source": [
    "10) ¿Se puede mejorar el proceso del punto 9? Utilizar las sentencias break y/ó continue para tal fin"
   ]
  },
  {
   "cell_type": "code",
   "execution_count": 82,
   "metadata": {},
   "outputs": [
    {
     "name": "stdout",
     "output_type": "stream",
     "text": [
      "2\n",
      "3\n",
      "5\n",
      "7\n",
      "11\n",
      "13\n",
      "17\n",
      "19\n",
      "23\n",
      "29\n"
     ]
    }
   ],
   "source": [
    "tope = 30\n",
    "n = 2 #el 0 y el 1 no son primos\n",
    "primo = True\n",
    "\n",
    "while n <= tope:\n",
    "    for div in range(2,n):\n",
    "        resto = n % div\n",
    "        if resto == 0:\n",
    "            primo = False\n",
    "            break #Para qu deje de probar divisiones una vez que el resto ya dio cero\n",
    "    if primo:\n",
    "        print(n)\n",
    "    else:    \n",
    "        primo = True #necesita el true porque quedo false de arriba\n",
    "    n +=1"
   ]
  },
  {
   "attachments": {},
   "cell_type": "markdown",
   "metadata": {},
   "source": [
    "11) En los puntos 9 y 10, se diseño un código que encuentra números primos y además se lo optimizó. ¿Es posible saber en qué medida se optimizó?"
   ]
  },
  {
   "cell_type": "code",
   "execution_count": 86,
   "metadata": {},
   "outputs": [
    {
     "name": "stdout",
     "output_type": "stream",
     "text": [
      "2\n",
      "3\n",
      "5\n",
      "7\n",
      "11\n",
      "13\n",
      "17\n",
      "19\n",
      "23\n",
      "29\n",
      "cantidad de loops for: 406\n"
     ]
    }
   ],
   "source": [
    "tope = 30\n",
    "n = 2 #el 0 y el 1 no son primos\n",
    "primo = True\n",
    "ciclos_sin_break = 0\n",
    "\n",
    "while n <= tope:\n",
    "    for div in range(2,n):\n",
    "        ciclos_sin_break +=1\n",
    "        resto = n % div\n",
    "        if resto == 0:\n",
    "            primo = False\n",
    "    if primo:\n",
    "        print(n)\n",
    "    else:    \n",
    "        primo = True #necesita el true porque quedo false de arriba\n",
    "    n +=1\n",
    "print(f'cantidad de loops for: {ciclos_sin_break}')"
   ]
  },
  {
   "cell_type": "code",
   "execution_count": 85,
   "metadata": {},
   "outputs": [
    {
     "name": "stdout",
     "output_type": "stream",
     "text": [
      "2\n",
      "3\n",
      "5\n",
      "7\n",
      "11\n",
      "13\n",
      "17\n",
      "19\n",
      "23\n",
      "29\n",
      "cantidad de loops for: 135\n"
     ]
    }
   ],
   "source": [
    "tope = 30\n",
    "n = 2 #el 0 y el 1 no son primos\n",
    "primo = True\n",
    "ciclos_con_break = 0\n",
    "\n",
    "while n <= tope:\n",
    "    for div in range(2,n):\n",
    "        ciclos_con_break +=1\n",
    "        resto = n % div\n",
    "        if resto == 0:\n",
    "            primo = False\n",
    "            break #Para qu deje de probar divisiones una vez que el resto ya dio cero\n",
    "    if primo:\n",
    "        print(n)\n",
    "    else:    \n",
    "        primo = True #necesita el true porque quedo false de arriba\n",
    "    n +=1\n",
    "print(f'cantidad de loops for: {ciclos_con_break}')"
   ]
  },
  {
   "attachments": {},
   "cell_type": "markdown",
   "metadata": {},
   "source": [
    "12) Si la cantidad de números que se evalúa es mayor a treinta, esa optimización crece?"
   ]
  },
  {
   "cell_type": "code",
   "execution_count": null,
   "metadata": {},
   "outputs": [],
   "source": []
  },
  {
   "attachments": {},
   "cell_type": "markdown",
   "metadata": {},
   "source": [
    "13) Aplicando continue, armar un ciclo while que solo imprima los valores divisibles por 12, dentro del rango de números de 100 a 300"
   ]
  },
  {
   "cell_type": "code",
   "execution_count": 2,
   "metadata": {},
   "outputs": [
    {
     "name": "stdout",
     "output_type": "stream",
     "text": [
      "108 es divisible por 12\n",
      "120 es divisible por 12\n",
      "132 es divisible por 12\n",
      "144 es divisible por 12\n",
      "156 es divisible por 12\n",
      "168 es divisible por 12\n",
      "180 es divisible por 12\n",
      "192 es divisible por 12\n",
      "204 es divisible por 12\n",
      "216 es divisible por 12\n",
      "228 es divisible por 12\n",
      "240 es divisible por 12\n",
      "252 es divisible por 12\n",
      "264 es divisible por 12\n",
      "276 es divisible por 12\n",
      "288 es divisible por 12\n",
      "300 es divisible por 12\n"
     ]
    }
   ],
   "source": [
    "n = 99\n",
    "while n < 301:\n",
    "    n += 1\n",
    "    if n % 12 != 0:\n",
    "        continue\n",
    "    else:\n",
    "        print (f'{n} es divisible por 12')\n"
   ]
  },
  {
   "attachments": {},
   "cell_type": "markdown",
   "metadata": {},
   "source": [
    "14) Utilizar la función **input()** que permite hacer ingresos por teclado, para encontrar números primos y dar la opción al usario de buscar el siguiente"
   ]
  },
  {
   "cell_type": "code",
   "execution_count": 5,
   "metadata": {},
   "outputs": [
    {
     "name": "stdout",
     "output_type": "stream",
     "text": [
      "El numero 2 es primo\n",
      "Desea buscar otro numero primo?\n",
      "El numero 3 es primo\n",
      "Desea buscar otro numero primo?\n",
      "El numero 5 es primo\n",
      "Desea buscar otro numero primo?\n",
      "El numero 7 es primo\n",
      "Desea buscar otro numero primo?\n",
      "El numero 11 es primo\n",
      "Desea buscar otro numero primo?\n",
      "El numero 13 es primo\n",
      "Desea buscar otro numero primo?\n",
      "El numero 17 es primo\n",
      "Desea buscar otro numero primo?\n",
      "El numero 19 es primo\n",
      "Desea buscar otro numero primo?\n",
      "El numero 23 es primo\n",
      "Desea buscar otro numero primo?\n",
      "Fin de busqueda\n"
     ]
    }
   ],
   "source": [
    "n = 2 #el 0 y el 1 no son primos\n",
    "primo = True\n",
    "buscar_primo = True\n",
    "\n",
    "while buscar_primo:\n",
    "    for div in range(2,n):\n",
    "        resto = n % div\n",
    "        if resto == 0:\n",
    "            primo = False\n",
    "            break #Para qu deje de probar divisiones una vez que el resto ya dio cero\n",
    "    if primo:\n",
    "        print(f'El numero {n} es primo')\n",
    "        print('Desea buscar otro numero primo?')\n",
    "        continuar = input('Ingrese SI o NO: ')\n",
    "        if continuar == 'NO':\n",
    "            print ('Fin de busqueda')\n",
    "            buscar_primo = False\n",
    "            break\n",
    "    else:    \n",
    "        primo = True #necesita el true porque quedo false de arriba\n",
    "    n +=1"
   ]
  },
  {
   "attachments": {},
   "cell_type": "markdown",
   "metadata": {},
   "source": [
    "15) Crear un ciclo while que encuentre dentro del rango de 100 a 300 el primer número divisible por 3 y además múltiplo de 6"
   ]
  },
  {
   "cell_type": "code",
   "execution_count": 13,
   "metadata": {},
   "outputs": [
    {
     "name": "stdout",
     "output_type": "stream",
     "text": [
      "El número es:  102\n"
     ]
    }
   ],
   "source": [
    "n = 100\n",
    "while(n<=300):\n",
    "    if (n % 6 == 0):\n",
    "        print('El número es: ', str(n))\n",
    "        break\n",
    "    n += 1"
   ]
  }
 ],
 "metadata": {
  "interpreter": {
   "hash": "c85384e4cb51c8b72350f3a8712cc8351fdc3955e32a27f9b60c6242ab125f01"
  },
  "kernelspec": {
   "display_name": "Python 3 (ipykernel)",
   "language": "python",
   "name": "python3"
  },
  "language_info": {
   "codemirror_mode": {
    "name": "ipython",
    "version": 3
   },
   "file_extension": ".py",
   "mimetype": "text/x-python",
   "name": "python",
   "nbconvert_exporter": "python",
   "pygments_lexer": "ipython3",
   "version": "3.10.0"
  }
 },
 "nbformat": 4,
 "nbformat_minor": 4
}
